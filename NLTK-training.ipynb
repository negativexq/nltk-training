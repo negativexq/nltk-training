{
 "cells": [
  {
   "cell_type": "code",
   "execution_count": 415,
   "metadata": {},
   "outputs": [],
   "source": [
    "import pandas as pd # data processing, CSV file I/O (e.g. pd.read_csv)\n",
    "from sklearn.model_selection import train_test_split # Import train_test_split function"
   ]
  },
  {
   "cell_type": "code",
   "execution_count": 416,
   "metadata": {},
   "outputs": [],
   "source": [
    "df = pd.read_csv('data.csv')"
   ]
  },
  {
   "cell_type": "code",
   "execution_count": 417,
   "metadata": {},
   "outputs": [
    {
     "data": {
      "text/html": [
       "<div>\n",
       "<style scoped>\n",
       "    .dataframe tbody tr th:only-of-type {\n",
       "        vertical-align: middle;\n",
       "    }\n",
       "\n",
       "    .dataframe tbody tr th {\n",
       "        vertical-align: top;\n",
       "    }\n",
       "\n",
       "    .dataframe thead th {\n",
       "        text-align: right;\n",
       "    }\n",
       "</style>\n",
       "<table border=\"1\" class=\"dataframe\">\n",
       "  <thead>\n",
       "    <tr style=\"text-align: right;\">\n",
       "      <th></th>\n",
       "      <th>id</th>\n",
       "      <th>subreddit</th>\n",
       "      <th>post_id</th>\n",
       "      <th>sentence_range</th>\n",
       "      <th>text</th>\n",
       "      <th>label</th>\n",
       "      <th>confidence</th>\n",
       "      <th>social_timestamp</th>\n",
       "      <th>social_karma</th>\n",
       "      <th>syntax_ari</th>\n",
       "      <th>...</th>\n",
       "      <th>lex_dal_min_pleasantness</th>\n",
       "      <th>lex_dal_min_activation</th>\n",
       "      <th>lex_dal_min_imagery</th>\n",
       "      <th>lex_dal_avg_activation</th>\n",
       "      <th>lex_dal_avg_imagery</th>\n",
       "      <th>lex_dal_avg_pleasantness</th>\n",
       "      <th>social_upvote_ratio</th>\n",
       "      <th>social_num_comments</th>\n",
       "      <th>syntax_fk_grade</th>\n",
       "      <th>sentiment</th>\n",
       "    </tr>\n",
       "  </thead>\n",
       "  <tbody>\n",
       "    <tr>\n",
       "      <th>0</th>\n",
       "      <td>896</td>\n",
       "      <td>relationships</td>\n",
       "      <td>7nu7as</td>\n",
       "      <td>[50, 55]</td>\n",
       "      <td>Its like that, if you want or not.“ ME: I have...</td>\n",
       "      <td>0</td>\n",
       "      <td>0.80</td>\n",
       "      <td>1514980773</td>\n",
       "      <td>22</td>\n",
       "      <td>-1.24</td>\n",
       "      <td>...</td>\n",
       "      <td>1.00</td>\n",
       "      <td>1.20</td>\n",
       "      <td>1.00</td>\n",
       "      <td>1.66</td>\n",
       "      <td>1.32</td>\n",
       "      <td>1.80</td>\n",
       "      <td>0.63</td>\n",
       "      <td>62</td>\n",
       "      <td>-0.15</td>\n",
       "      <td>0.00</td>\n",
       "    </tr>\n",
       "    <tr>\n",
       "      <th>1</th>\n",
       "      <td>19059</td>\n",
       "      <td>anxiety</td>\n",
       "      <td>680i6d</td>\n",
       "      <td>(5, 10)</td>\n",
       "      <td>I man the front desk and my title is HR Custom...</td>\n",
       "      <td>0</td>\n",
       "      <td>1.00</td>\n",
       "      <td>1493348050</td>\n",
       "      <td>5</td>\n",
       "      <td>7.68</td>\n",
       "      <td>...</td>\n",
       "      <td>1.40</td>\n",
       "      <td>1.12</td>\n",
       "      <td>1.00</td>\n",
       "      <td>1.69</td>\n",
       "      <td>1.69</td>\n",
       "      <td>1.97</td>\n",
       "      <td>1.00</td>\n",
       "      <td>2</td>\n",
       "      <td>7.40</td>\n",
       "      <td>-0.07</td>\n",
       "    </tr>\n",
       "    <tr>\n",
       "      <th>2</th>\n",
       "      <td>7977</td>\n",
       "      <td>ptsd</td>\n",
       "      <td>8eeu1t</td>\n",
       "      <td>(5, 10)</td>\n",
       "      <td>We'd be saving so much money with this new hou...</td>\n",
       "      <td>1</td>\n",
       "      <td>1.00</td>\n",
       "      <td>1524516630</td>\n",
       "      <td>10</td>\n",
       "      <td>2.36</td>\n",
       "      <td>...</td>\n",
       "      <td>1.14</td>\n",
       "      <td>1.00</td>\n",
       "      <td>1.00</td>\n",
       "      <td>1.71</td>\n",
       "      <td>1.53</td>\n",
       "      <td>1.86</td>\n",
       "      <td>1.00</td>\n",
       "      <td>8</td>\n",
       "      <td>3.15</td>\n",
       "      <td>-0.04</td>\n",
       "    </tr>\n",
       "    <tr>\n",
       "      <th>3</th>\n",
       "      <td>1214</td>\n",
       "      <td>ptsd</td>\n",
       "      <td>8d28vu</td>\n",
       "      <td>[2, 7]</td>\n",
       "      <td>My ex used to shoot back with \"Do you want me ...</td>\n",
       "      <td>1</td>\n",
       "      <td>0.50</td>\n",
       "      <td>1524018289</td>\n",
       "      <td>5</td>\n",
       "      <td>6.00</td>\n",
       "      <td>...</td>\n",
       "      <td>1.00</td>\n",
       "      <td>1.30</td>\n",
       "      <td>1.00</td>\n",
       "      <td>1.73</td>\n",
       "      <td>1.52</td>\n",
       "      <td>1.85</td>\n",
       "      <td>1.00</td>\n",
       "      <td>7</td>\n",
       "      <td>6.61</td>\n",
       "      <td>-0.07</td>\n",
       "    </tr>\n",
       "    <tr>\n",
       "      <th>4</th>\n",
       "      <td>1965</td>\n",
       "      <td>relationships</td>\n",
       "      <td>7r1e85</td>\n",
       "      <td>[23, 28]</td>\n",
       "      <td>I haven’t said anything to him yet because I’m...</td>\n",
       "      <td>0</td>\n",
       "      <td>0.80</td>\n",
       "      <td>1516200171</td>\n",
       "      <td>138</td>\n",
       "      <td>4.65</td>\n",
       "      <td>...</td>\n",
       "      <td>1.12</td>\n",
       "      <td>1.14</td>\n",
       "      <td>1.00</td>\n",
       "      <td>1.76</td>\n",
       "      <td>1.44</td>\n",
       "      <td>1.92</td>\n",
       "      <td>0.84</td>\n",
       "      <td>70</td>\n",
       "      <td>4.80</td>\n",
       "      <td>0.14</td>\n",
       "    </tr>\n",
       "    <tr>\n",
       "      <th>...</th>\n",
       "      <td>...</td>\n",
       "      <td>...</td>\n",
       "      <td>...</td>\n",
       "      <td>...</td>\n",
       "      <td>...</td>\n",
       "      <td>...</td>\n",
       "      <td>...</td>\n",
       "      <td>...</td>\n",
       "      <td>...</td>\n",
       "      <td>...</td>\n",
       "      <td>...</td>\n",
       "      <td>...</td>\n",
       "      <td>...</td>\n",
       "      <td>...</td>\n",
       "      <td>...</td>\n",
       "      <td>...</td>\n",
       "      <td>...</td>\n",
       "      <td>...</td>\n",
       "      <td>...</td>\n",
       "      <td>...</td>\n",
       "      <td>...</td>\n",
       "    </tr>\n",
       "    <tr>\n",
       "      <th>710</th>\n",
       "      <td>24271</td>\n",
       "      <td>ptsd</td>\n",
       "      <td>7vavh4</td>\n",
       "      <td>(0, 5)</td>\n",
       "      <td>i have horrible vivid nightmares every night. ...</td>\n",
       "      <td>1</td>\n",
       "      <td>1.00</td>\n",
       "      <td>1517790160</td>\n",
       "      <td>7</td>\n",
       "      <td>4.60</td>\n",
       "      <td>...</td>\n",
       "      <td>1.00</td>\n",
       "      <td>1.20</td>\n",
       "      <td>1.00</td>\n",
       "      <td>1.77</td>\n",
       "      <td>1.47</td>\n",
       "      <td>1.84</td>\n",
       "      <td>0.79</td>\n",
       "      <td>15</td>\n",
       "      <td>4.59</td>\n",
       "      <td>-0.07</td>\n",
       "    </tr>\n",
       "    <tr>\n",
       "      <th>711</th>\n",
       "      <td>2212</td>\n",
       "      <td>relationships</td>\n",
       "      <td>7oeyuc</td>\n",
       "      <td>[70, 75]</td>\n",
       "      <td>Also I can't think about both of them without ...</td>\n",
       "      <td>1</td>\n",
       "      <td>0.57</td>\n",
       "      <td>1515192055</td>\n",
       "      <td>0</td>\n",
       "      <td>1.45</td>\n",
       "      <td>...</td>\n",
       "      <td>1.00</td>\n",
       "      <td>1.18</td>\n",
       "      <td>1.00</td>\n",
       "      <td>1.68</td>\n",
       "      <td>1.51</td>\n",
       "      <td>1.84</td>\n",
       "      <td>0.50</td>\n",
       "      <td>7</td>\n",
       "      <td>2.83</td>\n",
       "      <td>0.19</td>\n",
       "    </tr>\n",
       "    <tr>\n",
       "      <th>712</th>\n",
       "      <td>27951</td>\n",
       "      <td>relationships</td>\n",
       "      <td>7ssxec</td>\n",
       "      <td>(35, 40)</td>\n",
       "      <td>Furthermore, I told him before we got really s...</td>\n",
       "      <td>1</td>\n",
       "      <td>0.60</td>\n",
       "      <td>1516848555</td>\n",
       "      <td>3</td>\n",
       "      <td>3.96</td>\n",
       "      <td>...</td>\n",
       "      <td>1.00</td>\n",
       "      <td>1.00</td>\n",
       "      <td>1.00</td>\n",
       "      <td>1.71</td>\n",
       "      <td>1.51</td>\n",
       "      <td>1.86</td>\n",
       "      <td>0.72</td>\n",
       "      <td>10</td>\n",
       "      <td>5.71</td>\n",
       "      <td>-0.04</td>\n",
       "    </tr>\n",
       "    <tr>\n",
       "      <th>713</th>\n",
       "      <td>1164</td>\n",
       "      <td>assistance</td>\n",
       "      <td>90bila</td>\n",
       "      <td>[8, 13]</td>\n",
       "      <td>Here's the link to my amazon wish list where t...</td>\n",
       "      <td>0</td>\n",
       "      <td>0.60</td>\n",
       "      <td>1532048310</td>\n",
       "      <td>18</td>\n",
       "      <td>0.24</td>\n",
       "      <td>...</td>\n",
       "      <td>1.50</td>\n",
       "      <td>1.00</td>\n",
       "      <td>1.00</td>\n",
       "      <td>1.65</td>\n",
       "      <td>1.54</td>\n",
       "      <td>1.91</td>\n",
       "      <td>0.74</td>\n",
       "      <td>2</td>\n",
       "      <td>2.37</td>\n",
       "      <td>0.09</td>\n",
       "    </tr>\n",
       "    <tr>\n",
       "      <th>714</th>\n",
       "      <td>1519</td>\n",
       "      <td>assistance</td>\n",
       "      <td>7uueuc</td>\n",
       "      <td>[5, 10]</td>\n",
       "      <td>How can I keep us protected? They have already...</td>\n",
       "      <td>1</td>\n",
       "      <td>0.00</td>\n",
       "      <td>1517604595</td>\n",
       "      <td>4</td>\n",
       "      <td>3.22</td>\n",
       "      <td>...</td>\n",
       "      <td>1.12</td>\n",
       "      <td>1.00</td>\n",
       "      <td>1.00</td>\n",
       "      <td>1.67</td>\n",
       "      <td>1.52</td>\n",
       "      <td>1.91</td>\n",
       "      <td>0.63</td>\n",
       "      <td>8</td>\n",
       "      <td>3.78</td>\n",
       "      <td>0.14</td>\n",
       "    </tr>\n",
       "  </tbody>\n",
       "</table>\n",
       "<p>715 rows × 116 columns</p>\n",
       "</div>"
      ],
      "text/plain": [
       "        id      subreddit post_id sentence_range  \\\n",
       "0      896  relationships  7nu7as       [50, 55]   \n",
       "1    19059        anxiety  680i6d        (5, 10)   \n",
       "2     7977           ptsd  8eeu1t        (5, 10)   \n",
       "3     1214           ptsd  8d28vu         [2, 7]   \n",
       "4     1965  relationships  7r1e85       [23, 28]   \n",
       "..     ...            ...     ...            ...   \n",
       "710  24271           ptsd  7vavh4         (0, 5)   \n",
       "711   2212  relationships  7oeyuc       [70, 75]   \n",
       "712  27951  relationships  7ssxec       (35, 40)   \n",
       "713   1164     assistance  90bila        [8, 13]   \n",
       "714   1519     assistance  7uueuc        [5, 10]   \n",
       "\n",
       "                                                  text  label  confidence  \\\n",
       "0    Its like that, if you want or not.“ ME: I have...      0        0.80   \n",
       "1    I man the front desk and my title is HR Custom...      0        1.00   \n",
       "2    We'd be saving so much money with this new hou...      1        1.00   \n",
       "3    My ex used to shoot back with \"Do you want me ...      1        0.50   \n",
       "4    I haven’t said anything to him yet because I’m...      0        0.80   \n",
       "..                                                 ...    ...         ...   \n",
       "710  i have horrible vivid nightmares every night. ...      1        1.00   \n",
       "711  Also I can't think about both of them without ...      1        0.57   \n",
       "712  Furthermore, I told him before we got really s...      1        0.60   \n",
       "713  Here's the link to my amazon wish list where t...      0        0.60   \n",
       "714  How can I keep us protected? They have already...      1        0.00   \n",
       "\n",
       "     social_timestamp  social_karma  syntax_ari  ...  \\\n",
       "0          1514980773            22       -1.24  ...   \n",
       "1          1493348050             5        7.68  ...   \n",
       "2          1524516630            10        2.36  ...   \n",
       "3          1524018289             5        6.00  ...   \n",
       "4          1516200171           138        4.65  ...   \n",
       "..                ...           ...         ...  ...   \n",
       "710        1517790160             7        4.60  ...   \n",
       "711        1515192055             0        1.45  ...   \n",
       "712        1516848555             3        3.96  ...   \n",
       "713        1532048310            18        0.24  ...   \n",
       "714        1517604595             4        3.22  ...   \n",
       "\n",
       "     lex_dal_min_pleasantness  lex_dal_min_activation  lex_dal_min_imagery  \\\n",
       "0                        1.00                    1.20                 1.00   \n",
       "1                        1.40                    1.12                 1.00   \n",
       "2                        1.14                    1.00                 1.00   \n",
       "3                        1.00                    1.30                 1.00   \n",
       "4                        1.12                    1.14                 1.00   \n",
       "..                        ...                     ...                  ...   \n",
       "710                      1.00                    1.20                 1.00   \n",
       "711                      1.00                    1.18                 1.00   \n",
       "712                      1.00                    1.00                 1.00   \n",
       "713                      1.50                    1.00                 1.00   \n",
       "714                      1.12                    1.00                 1.00   \n",
       "\n",
       "     lex_dal_avg_activation  lex_dal_avg_imagery  lex_dal_avg_pleasantness  \\\n",
       "0                      1.66                 1.32                      1.80   \n",
       "1                      1.69                 1.69                      1.97   \n",
       "2                      1.71                 1.53                      1.86   \n",
       "3                      1.73                 1.52                      1.85   \n",
       "4                      1.76                 1.44                      1.92   \n",
       "..                      ...                  ...                       ...   \n",
       "710                    1.77                 1.47                      1.84   \n",
       "711                    1.68                 1.51                      1.84   \n",
       "712                    1.71                 1.51                      1.86   \n",
       "713                    1.65                 1.54                      1.91   \n",
       "714                    1.67                 1.52                      1.91   \n",
       "\n",
       "     social_upvote_ratio  social_num_comments  syntax_fk_grade  sentiment  \n",
       "0                   0.63                   62            -0.15       0.00  \n",
       "1                   1.00                    2             7.40      -0.07  \n",
       "2                   1.00                    8             3.15      -0.04  \n",
       "3                   1.00                    7             6.61      -0.07  \n",
       "4                   0.84                   70             4.80       0.14  \n",
       "..                   ...                  ...              ...        ...  \n",
       "710                 0.79                   15             4.59      -0.07  \n",
       "711                 0.50                    7             2.83       0.19  \n",
       "712                 0.72                   10             5.71      -0.04  \n",
       "713                 0.74                    2             2.37       0.09  \n",
       "714                 0.63                    8             3.78       0.14  \n",
       "\n",
       "[715 rows x 116 columns]"
      ]
     },
     "execution_count": 417,
     "metadata": {},
     "output_type": "execute_result"
    }
   ],
   "source": [
    "df"
   ]
  },
  {
   "cell_type": "code",
   "execution_count": 418,
   "metadata": {},
   "outputs": [
    {
     "data": {
      "image/png": "[encoded data removed]",
      "text/plain": [
       "<Figure size 1800x720 with 1 Axes>"
      ]
     },
     "metadata": {
      "needs_background": "light"
     },
     "output_type": "display_data"
    }
   ],
   "source": [
    "\"\"\"show label column distribution in df at bar plot and pie plot\n",
    "with label and value counts\"\"\"\n",
    "\n",
    "import matplotlib.pyplot as plt\n",
    "import seaborn as sns\n",
    "\n",
    "# bar plot\n",
    "plt.figure(figsize=(25,10))\n",
    "sns.countplot(x='label', data=df)\n",
    "plt.show()\n",
    "\n"
   ]
  },
  {
   "cell_type": "code",
   "execution_count": 419,
   "metadata": {},
   "outputs": [
    {
     "data": {
      "image/png": "[encoded data removed]",
      "text/plain": [
       "<Figure size 1800x720 with 1 Axes>"
      ]
     },
     "metadata": {},
     "output_type": "display_data"
    }
   ],
   "source": [
    "# pie plot with counts value\n",
    "plt.figure(figsize=(25,10))\n",
    "df['label'].value_counts().plot.pie(autopct='%1.1f%%')\n",
    "plt.legend()\n",
    "plt.show()\n"
   ]
  },
  {
   "cell_type": "code",
   "execution_count": 420,
   "metadata": {},
   "outputs": [
    {
     "data": {
      "image/png": "[encoded data removed]",
      "text/plain": [
       "<Figure size 1800x720 with 1 Axes>"
      ]
     },
     "metadata": {
      "needs_background": "light"
     },
     "output_type": "display_data"
    }
   ],
   "source": [
    "\"\"\"plot subreddit column counts at bar plot and pie plot with label and value counts\"\"\"\n",
    "\n",
    "# bar plot\n",
    "plt.figure(figsize=(25,10))\n",
    "sns.countplot(x='subreddit', data=df)\n",
    "plt.show()\n",
    "\n"
   ]
  },
  {
   "cell_type": "code",
   "execution_count": 421,
   "metadata": {},
   "outputs": [
    {
     "data": {
      "image/png": "[encoded data removed]",
      "text/plain": [
       "<Figure size 1800x720 with 1 Axes>"
      ]
     },
     "metadata": {},
     "output_type": "display_data"
    }
   ],
   "source": [
    "# pie plot subreddit with counts value with labels\n",
    "plt.figure(figsize=(25,10))\n",
    "df['subreddit'].value_counts().plot.pie(autopct='%1.1f%%')\n",
    "\"\"\"show labels\"\"\"\n",
    "plt.legend(labels=df['subreddit'].value_counts().index, loc=\"best\")\n",
    "plt.show()\n",
    "\n"
   ]
  },
  {
   "cell_type": "code",
   "execution_count": 422,
   "metadata": {},
   "outputs": [
    {
     "name": "stderr",
     "output_type": "stream",
     "text": [
      "[nltk_data] Downloading package punkt to\n",
      "[nltk_data]     C:\\Users\\ofk58\\AppData\\Roaming\\nltk_data...\n",
      "[nltk_data]   Package punkt is already up-to-date!\n",
      "[nltk_data] Downloading package stopwords to\n",
      "[nltk_data]     C:\\Users\\ofk58\\AppData\\Roaming\\nltk_data...\n",
      "[nltk_data]   Package stopwords is already up-to-date!\n"
     ]
    }
   ],
   "source": [
    "import nltk # Import the Natural Language Toolkit (NLTK) package\n",
    "nltk.download(\"punkt\") # Download the punkt tokenizer\n",
    "nltk.download(\"stopwords\") # Download the stop words list\n",
    "from nltk.corpus import stopwords  # Import the stop word list\n",
    "from nltk.tokenize import word_tokenize # Import the word tokenizer\n",
    "\n",
    "train_df, test_df = train_test_split(df, test_size=0.25, random_state=42) # 70% train, 30% test\n",
    "\n",
    "stop_words = set(stopwords.words(\"english\")) # Create a set of stop words\n",
    "def preprocess_1(text): # Define a function for text preprocessing\n",
    "    # Lowercase and tokenize the text\n",
    "    tokens = word_tokenize(text.lower()) # Convert the text to lowercase and tokenize it\n",
    "    \n",
    "    # Remove stop words\n",
    "    tokens = [token for token in tokens if token not in stop_words]\n",
    "    \n",
    "    # Return the preprocessed text\n",
    "    return \" \".join(tokens)\n",
    "\n",
    "train_df[\"text\"] = train_df[\"text\"].apply(preprocess_1) # Apply the preprocessing function to the text column\n",
    "test_df[\"text\"] = test_df[\"text\"].apply(preprocess_1) # Apply the preprocessing function to the text column\n"
   ]
  },
  {
   "attachments": {},
   "cell_type": "markdown",
   "metadata": {},
   "source": [
    "### Bu kod, NLTK (Natural Language Toolkit) paketinden metin önişleme için gerekli modüller ve işlevleri içerir, bunlar arasında punkt tokenizer, durak kelime listesi ve kelime tokenizeri vardır. Daha sonra, df adında bir veri çerçevesini iki yeni veri çerçevesine, train_df ve test_df'e ayırır, bu veri çerçevelerinin %70'i eğitim için ve %30'u test için kullanılacaktır.\n",
    "\n",
    "### Sonra, preprocess_1 adında bir işlev tanımlar, bu işlev bir metin dizesi alır ve ön işlemli metni döndürür. Ön işleme adımları metnin küçük harfe dönüştürülmesini, tokenleştirilmesini ve durak kelimelerinin çıkarılmasını içerir. Son olarak, preprocess_1 işlevi train_df ve test_df veri çerçevelerinin text sütununa uygulanır.\n",
    "\n",
    "### punkt tokenizer: Bu tokenizer, bir metin içinde kelime ve noktalama işaretlerini ayırt etmek için kullanılır. Örneğin, \"Mr. Smith bought a car.\" cümlesini \"Mr.\", \".\", \"Smith\", \"bought\", \"a\", \"car\", \".\" şeklinde tokenler haline getirir.\n",
    "\n",
    "### stop words list: Bu liste, bir dil içinde sık kullanılan ancak anlamı pek yok olan kelimeleri içerir. Örneğin, İngilizce dilinde stop words listesi \"a\", \"an\", \"and\", \"are\", \"as\", \"at\", \"be\", \"by\", \"for\", \"from\", \"has\", \"he\", \"in\", \"is\", \"it\", \"its\", \"of\", \"on\", \"that\", \"the\", \"to\", \"was\", \"were\", \"will\", \"with\" gibi kelimeleri içerebilir.\n",
    "\n",
    "### word tokenizer: Bu tokenizer, bir metin içindeki kelimeleri ayırt etmek için kullanılır. Örneğin, \"I went to the store.\" cümlesini \"I\", \"went\", \"to\", \"the\", \"store\", \".\" şeklinde tokenler haline getirir.\n",
    "\n",
    "### Bu modüller, metin önişleme işlemlerinde kullanılır. Örneğin, bir metin içindeki kelime ve noktalama işaretleri ayırt edilerek tokenleştirilebilir, daha sonra tokenler arasından dil için sık kullanılan ancak anlamı pek yok olan kelimeler çıkarılabilir. Bu sayede metin içindeki anlamı önemli olan kelimeler daha kolay bulunabilecektir."
   ]
  },
  {
   "cell_type": "code",
   "execution_count": 423,
   "metadata": {},
   "outputs": [
    {
     "data": {
      "text/plain": [
       "388    twice , sent message instagram month ago sayin...\n",
       "361    'm nursing program , 're talking domestic viol...\n",
       "519    seems best option babysit weekend see doctor m...\n",
       "248    gamers , play similar games together often . p...\n",
       "486    's hard even type , today dropped classes week...\n",
       "                             ...                        \n",
       "71     stuck n't means leave hard time accepting abus...\n",
       "106    'm adult mental illness , went messy breakup u...\n",
       "270    brothers wedding soon . like soon . fiance rec...\n",
       "435    moving following workday , went shop collect d...\n",
       "102    dad utterly distraught , never laid finger us ...\n",
       "Name: text, Length: 536, dtype: object"
      ]
     },
     "execution_count": 423,
     "metadata": {},
     "output_type": "execute_result"
    }
   ],
   "source": [
    "train_df[\"text\"] "
   ]
  },
  {
   "attachments": {},
   "cell_type": "markdown",
   "metadata": {},
   "source": [
    "### Bu kod bloğu, NLP görevleri için metin verisini ön işleme yapmaktadır. Önce metinleri küçük harfler halinde ve tokenler halinde ayırır, daha sonra stop words'leri kaldırır ve tokenleri lemmatize eder. Sonuç olarak, lemmaların boşluklarla birleştirilmiş bir metin olarak döndürülmesi sağlanır. Bu ön işleme fonksiyonu, train_df ve test_df veri yapılarının \"text\" sütunlarına uygulanır.\n",
    "\n",
    "### WordNet lemmatizer, tokenleri lemmatize etmek için konuşma etiketlerini kullanır, bu nedenle basit bir taban form lemmatizer'den daha doğru olur. Her kelimenin dil bilgisi şekillerini ortak bir taban forma, lemma olarak adlandırılan forma dönüştürür. Örneğin, \"was\" kelimesinin lemma'sı \"be\", \"dogs\" kelimesinin lemma'sı \"dog\" ve \"better\" kelimesinin lemma'sı \"good\" dir.\n",
    "\n",
    "### Lemmatization, kelimeleri aynı taban forma sahip olan benzer kelimeler arasında birleştirerek özellik uzayının boyutunu azaltabilir. Bu, özellikle veri kümesi küçük veya sınırlı bir sözlüğe sahipse, bazı modellerin performansını iyileştirebilir."
   ]
  },
  {
   "cell_type": "code",
   "execution_count": 424,
   "metadata": {},
   "outputs": [
    {
     "name": "stderr",
     "output_type": "stream",
     "text": [
      "[nltk_data] Downloading package wordnet to\n",
      "[nltk_data]     C:\\Users\\ofk58\\AppData\\Roaming\\nltk_data...\n",
      "[nltk_data]   Package wordnet is already up-to-date!\n"
     ]
    }
   ],
   "source": [
    "nltk.download(\"wordnet\") # Download the wordnet corpus\n",
    "from nltk.corpus import wordnet # Import the wordnet corpus\n",
    "from nltk.stem import WordNetLemmatizer # Import the lemmatizer\n",
    "\n",
    "lemmatizer = WordNetLemmatizer() # Create a lemmatizer object\n",
    "def preprocess_2(text): \n",
    "    # Lowercase and tokenize the text\n",
    "    tokens = word_tokenize(text.lower())\n",
    "    \n",
    "    # Remove stop words\n",
    "    tokens = [token for token in tokens if token not in stop_words]\n",
    "    \n",
    "    # Lemmatize the tokens\n",
    "    lemmas = [lemmatizer.lemmatize(token) for token in tokens] \n",
    "    \n",
    "    # Return the preprocessed text\n",
    "    return \" \".join(lemmas)\n",
    "\n",
    "train_df[\"text\"] = train_df[\"text\"].apply(preprocess_2) # Apply the preprocessing function to the text column\n",
    "test_df[\"text\"] = test_df[\"text\"].apply(preprocess_2) # Apply the preprocessing function to the text column"
   ]
  },
  {
   "cell_type": "code",
   "execution_count": 425,
   "metadata": {},
   "outputs": [
    {
     "data": {
      "text/plain": [
       "388    twice , sent message instagram month ago sayin...\n",
       "361    'm nursing program , 're talking domestic viol...\n",
       "519    seems best option babysit weekend see doctor m...\n",
       "248    gamers , play similar game together often . pa...\n",
       "486    's hard even type , today dropped class week s...\n",
       "                             ...                        \n",
       "71     stuck n't mean leave hard time accepting abuse...\n",
       "106    'm adult mental illness , went messy breakup u...\n",
       "270    brother wedding soon . like soon . fiance rece...\n",
       "435    moving following workday , went shop collect d...\n",
       "102    dad utterly distraught , never laid finger u ....\n",
       "Name: text, Length: 536, dtype: object"
      ]
     },
     "execution_count": 425,
     "metadata": {},
     "output_type": "execute_result"
    }
   ],
   "source": [
    "train_df[\"text\"]"
   ]
  },
  {
   "attachments": {},
   "cell_type": "markdown",
   "metadata": {},
   "source": [
    "### Bu kod bloğu, NLP görevleri için metin verisini ön işleme yapmaktadır. Önce metinleri küçük harfler halinde ve tokenler halinde ayırır, daha sonra stop words'leri kaldırır ve tokenleri çekirdeklerine dönüştürür. Sonuç olarak, çekirdeklerin boşluklarla birleştirilmiş bir metin olarak döndürülmesi sağlanır. Bu ön işleme fonksiyonu, train_df ve test_df veri yapılarının \"text\" sütunlarına uygulanır.\n",
    "\n",
    "### Porter Stemmer, bir kelimenin çekirdeğini elde etmek için yaygın ekleri kaldıran basit bir heuristik algoritmadır. Örneğin, \"jumping\" kelimesinin çekirdeği \"jump\", \"jumps\" kelimesinin çekirdeği \"jump\" ve \"jumped\" kelimesinin çekirdeği \"jump\" dir. Ancak, çekirdekleyici her zaman geçerli bir İngilizce kelimeyi çekirdek olarak üretmez ve bazen çekirdekler üretebilir ki bunlar orijinal kelimeyle çok benzer değillerdir.\n",
    "\n",
    "### Stemmer, aynı çekirdeğe sahip benzer kelimeleri birleştirerek özellik uzayının boyutunu azaltmaya yardımcı olabilir. Ancak, lemmatization'dan daha az doğru olmasının nedeni her kelimenin konuşma etiketlerine göre düşünmemesidir. Ayrıca, yaygın eklerle ilgili olmayan inflection ve türetimleri işleme konusunda da daha az etkilidir."
   ]
  },
  {
   "cell_type": "code",
   "execution_count": 426,
   "metadata": {},
   "outputs": [
    {
     "name": "stderr",
     "output_type": "stream",
     "text": [
      "[nltk_data] Downloading package porter_test to\n",
      "[nltk_data]     C:\\Users\\ofk58\\AppData\\Roaming\\nltk_data...\n",
      "[nltk_data]   Package porter_test is already up-to-date!\n"
     ]
    }
   ],
   "source": [
    "nltk.download(\"porter_test\") # Download the Porter stemmer\n",
    "from nltk.stem import PorterStemmer # Import the Porter stemmer\n",
    "\n",
    "stemmer = PorterStemmer() # Create a stemmer object\n",
    "def preprocess_3(text): # Define a function for text preprocessing\n",
    "    # Lowercase and tokenize the text\n",
    "    tokens = word_tokenize(text.lower()) # Convert the text to lowercase and tokenize it\n",
    "    \n",
    "    # Remove stop words\n",
    "    tokens = [token for token in tokens if token not in stop_words] # Remove stop words\n",
    "    \n",
    "    # Stem the tokens\n",
    "    stems = [stemmer.stem(token) for token in tokens] # Stem the tokens\n",
    "    \n",
    "    # Return the preprocessed text\n",
    "    return \" \".join(stems)\n",
    "\n",
    "train_df[\"text\"] = train_df[\"text\"].apply(preprocess_3) # Apply the preprocessing function to the text column\n",
    "test_df[\"text\"] = test_df[\"text\"].apply(preprocess_3) # Apply the preprocessing function to the text column"
   ]
  },
  {
   "cell_type": "code",
   "execution_count": 427,
   "metadata": {},
   "outputs": [
    {
     "data": {
      "text/plain": [
       "388    twice , sent messag instagram month ago say ``...\n",
       "361    'm nurs program , 're talk domest violenc . ha...\n",
       "519    seem best option babysit weekend see doctor mo...\n",
       "248    gamer , play similar game togeth often . part ...\n",
       "486    's hard even type , today drop class week scho...\n",
       "                             ...                        \n",
       "71     stuck n't mean leav hard time accept abus . tr...\n",
       "106    'm adult mental ill , went messi breakup unhea...\n",
       "270    brother wed soon . like soon . fianc recent lo...\n",
       "435    move follow workday , went shop collect dish s...\n",
       "102    dad utterli distraught , never laid finger u ....\n",
       "Name: text, Length: 536, dtype: object"
      ]
     },
     "execution_count": 427,
     "metadata": {},
     "output_type": "execute_result"
    }
   ],
   "source": [
    "train_df[\"text\"]"
   ]
  },
  {
   "attachments": {},
   "cell_type": "markdown",
   "metadata": {},
   "source": [
    "#### Bu kod bloğu scikit-learn kütüphanesinden TfidfVectorizer sınıfını da içe aktarır, bu sınıf metin verisini sayısal özellik vektörlerine dönüştürmek için kullanılır.\n",
    "\n",
    "### TfidfVectorizer, terim frekansı-ters doküman frekansı (TF-IDF) yaklaşımını kullanarak metin verisini sayısal özellik vektörlerine dönüştürür. Bu yaklaşım, her dokümanı (ör. metin örneği) korpusdaki terimlerin doküman frekansları ters orantılı ve terim frekansları orantılı olarak ağırlıklı terimler vektörü olarak temsil eder. Sonuç olarak elde edilen özellik vektörleri, daha sonra makine öğrenimi modellerine girdi olarak kullanılabilir."
   ]
  },
  {
   "cell_type": "code",
   "execution_count": 428,
   "metadata": {},
   "outputs": [],
   "source": [
    "# Train and evaluate a logistic regression classifier\n",
    "from sklearn.linear_model import LogisticRegression\n",
    "from sklearn.feature_extraction.text import TfidfVectorizer # Import the vectorizer\n",
    "\n",
    "y_train = train_df[\"label\"] # Create a series with the labels\n",
    "y_test = test_df[\"label\"] # Create a series with the labels\n",
    "\n",
    "vectorizer = TfidfVectorizer() # Create a vectorizer object\n",
    "X_train = vectorizer.fit_transform(train_df[\"text\"]) # Transform the text column\n",
    "X_test = vectorizer.transform(test_df[\"text\"])  # Transform the text column"
   ]
  },
  {
   "cell_type": "code",
   "execution_count": 429,
   "metadata": {},
   "outputs": [
    {
     "name": "stdout",
     "output_type": "stream",
     "text": [
      "(536, 3600)\n",
      "  (0, 2309)\t0.10064438524465823\n",
      "  (0, 1470)\t0.15452034710413343\n",
      "  (0, 1809)\t0.1826968012984166\n",
      "  (0, 1705)\t0.21218708774009187\n",
      "  (0, 3549)\t0.09189235613010092\n",
      "  (0, 1869)\t0.1637792279654352\n",
      "  (0, 1604)\t0.15194421892259896\n",
      "  (0, 3570)\t0.13650943712827437\n",
      "  (0, 2315)\t0.1991374281023069\n",
      "  (0, 3466)\t0.08150408146740805\n",
      "  (0, 2945)\t0.10166619870940022\n",
      "  (0, 3216)\t0.10923964629111353\n",
      "  (0, 952)\t0.18987854724100514\n",
      "  (0, 2073)\t0.17682888760322016\n",
      "  (0, 1143)\t0.08896448214417929\n",
      "  (0, 351)\t0.1991374281023069\n",
      "  (0, 2513)\t0.1573207578709873\n",
      "  (0, 3239)\t0.1482022717721507\n",
      "  (0, 2818)\t0.2671631262847055\n",
      "  (0, 3301)\t0.09076296232870983\n",
      "  (0, 1344)\t0.1964467260109621\n",
      "  (0, 2631)\t0.1991374281023069\n",
      "  (0, 3184)\t0.1637792279654352\n",
      "  (0, 3332)\t0.11742202476925086\n",
      "  (0, 338)\t0.18987854724100514\n",
      "  :\t:\n",
      "  (535, 3105)\t0.20570141453761817\n",
      "  (535, 2235)\t0.41140282907523634\n",
      "  (535, 3406)\t0.20570141453761817\n",
      "  (535, 1260)\t0.18407475296359804\n",
      "  (535, 2091)\t0.19305062850102922\n",
      "  (535, 972)\t0.19305062850102922\n",
      "  (535, 16)\t0.18407475296359804\n",
      "  (535, 388)\t0.1714239669270091\n",
      "  (535, 3446)\t0.16244809138957791\n",
      "  (535, 1581)\t0.1771125230043\n",
      "  (535, 1569)\t0.11639880818680055\n",
      "  (535, 103)\t0.10925879610886455\n",
      "  (535, 181)\t0.14082142981555779\n",
      "  (535, 3023)\t0.11551985774237987\n",
      "  (535, 815)\t0.26467382736705947\n",
      "  (535, 2031)\t0.12949853257888078\n",
      "  (535, 1801)\t0.16661436129413884\n",
      "  (535, 3071)\t0.13892990054753446\n",
      "  (535, 1589)\t0.3734871998394332\n",
      "  (535, 2118)\t0.0966080100722756\n",
      "  (535, 2760)\t0.11919476824153764\n",
      "  (535, 1923)\t0.0890835905354895\n",
      "  (535, 2945)\t0.09855868756162203\n",
      "  (535, 1143)\t0.0862452094308405\n",
      "  (535, 1344)\t0.09522108496827168\n"
     ]
    }
   ],
   "source": [
    "print(X_train.shape)\n",
    "print(X_train)"
   ]
  },
  {
   "attachments": {},
   "cell_type": "markdown",
   "metadata": {},
   "source": [
    "### LogisticRegression"
   ]
  },
  {
   "cell_type": "code",
   "execution_count": 430,
   "metadata": {},
   "outputs": [
    {
     "name": "stdout",
     "output_type": "stream",
     "text": [
      "{'C': 1.0, 'penalty': 'l2', 'solver': 'lbfgs'}\n",
      "              precision    recall  f1-score   support\n",
      "\n",
      "           0       0.69      0.74      0.72        78\n",
      "           1       0.79      0.74      0.77       101\n",
      "\n",
      "    accuracy                           0.74       179\n",
      "   macro avg       0.74      0.74      0.74       179\n",
      "weighted avg       0.75      0.74      0.74       179\n",
      "\n"
     ]
    }
   ],
   "source": [
    "from sklearn.model_selection import GridSearchCV\n",
    "from sklearn.linear_model import LogisticRegression\n",
    "from sklearn.metrics import classification_report\n",
    "\n",
    "# Define the grid of hyperparameters to search\n",
    "param_grid = { # Define the grid of hyperparameters to search\n",
    "    \"C\": [0.1, 1.0, 10.0], # Regularization parameter\n",
    "    \"penalty\": [\"l2\"], # Norm used in the penalization\n",
    "    \"solver\": [\"liblinear\", \"lbfgs\"], # Algorithm to use in the optimization problem\n",
    "}\n",
    "\n",
    "# Create the logistic regression model\n",
    "logistic = LogisticRegression()\n",
    "\n",
    "# Create the grid search object\n",
    "grid_search = GridSearchCV(logistic, param_grid, cv=5)\n",
    "\n",
    "# Fit the grid search object to the training data\n",
    "grid_search.fit(X_train, y_train)\n",
    "\n",
    "# Print the best hyperparameters\n",
    "print(grid_search.best_params_)\n",
    "\n",
    "# Evaluate the model on the test set\n",
    "y_pred = grid_search.predict(X_test)\n",
    "print(classification_report(y_test, y_pred)) # Print the classification report"
   ]
  },
  {
   "cell_type": "code",
   "execution_count": 431,
   "metadata": {},
   "outputs": [
    {
     "data": {
      "image/png": "[encoded data removed]",
      "text/plain": [
       "<Figure size 720x720 with 2 Axes>"
      ]
     },
     "metadata": {
      "needs_background": "light"
     },
     "output_type": "display_data"
    }
   ],
   "source": [
    "\n",
    "# confusion matrix\n",
    "from sklearn.metrics import confusion_matrix\n",
    "confusion_matrix(y_test, y_pred)\n",
    "\n",
    "# plot confusion matrix\n",
    "import seaborn as sns\n",
    "import matplotlib.pyplot as plt\n",
    "plt.figure(figsize=(10,10))\n",
    "sns.heatmap(confusion_matrix(y_test, y_pred), annot=True, fmt='d')\n",
    "plt.show()"
   ]
  },
  {
   "cell_type": "code",
   "execution_count": 432,
   "metadata": {},
   "outputs": [
    {
     "name": "stdout",
     "output_type": "stream",
     "text": [
      "Accuracy :  0.74\n",
      "Sensitivity :  0.74\n",
      "Specificity :  0.74\n",
      "F1 score :  0.77\n",
      "Precision score :  0.79\n"
     ]
    }
   ],
   "source": [
    "#acuracy\n",
    "from sklearn.metrics import accuracy_score\n",
    "print('Accuracy : ', format(accuracy_score(y_test, y_pred), '.2f'))\n",
    "lr_accuracy = accuracy_score(y_test, y_pred)\n",
    "\n",
    "# sensitivity\n",
    "sensitivity = 0.0\n",
    "sensitivity = confusion_matrix(y_test, y_pred)[0,0]/(confusion_matrix(y_test, y_pred)[0,0]+confusion_matrix(y_test, y_pred)[0,1])\n",
    "lr_sensitivity = sensitivity\n",
    "print('Sensitivity : ', format(sensitivity, '.2f'))\n",
    "\n",
    "# specificity\n",
    "specificity = 0.0\n",
    "specificity = confusion_matrix(y_test, y_pred)[1,1]/(confusion_matrix(y_test, y_pred)[1,0]+confusion_matrix(y_test, y_pred)[1,1])\n",
    "lr_specificity = specificity\n",
    "print('Specificity : ', format(specificity, '.2f'))\n",
    "\n",
    "## f1 score\n",
    "from sklearn.metrics import f1_score\n",
    "print('F1 score : ', format(f1_score(y_test, y_pred), '.2f'))\n",
    "lr_f1 = f1_score(y_test, y_pred)\n",
    "\n",
    "## precision score\n",
    "from sklearn.metrics import precision_score\n",
    "print('Precision score : ', format(precision_score(y_test, y_pred), '.2f'))\n",
    "lr_precision = precision_score(y_test, y_pred)"
   ]
  },
  {
   "cell_type": "code",
   "execution_count": 433,
   "metadata": {},
   "outputs": [
    {
     "data": {
      "text/html": [
       "<div>\n",
       "<style scoped>\n",
       "    .dataframe tbody tr th:only-of-type {\n",
       "        vertical-align: middle;\n",
       "    }\n",
       "\n",
       "    .dataframe tbody tr th {\n",
       "        vertical-align: top;\n",
       "    }\n",
       "\n",
       "    .dataframe thead th {\n",
       "        text-align: right;\n",
       "    }\n",
       "</style>\n",
       "<table border=\"1\" class=\"dataframe\">\n",
       "  <thead>\n",
       "    <tr style=\"text-align: right;\">\n",
       "      <th></th>\n",
       "      <th>y_test</th>\n",
       "      <th>y_pred</th>\n",
       "      <th>equal</th>\n",
       "    </tr>\n",
       "  </thead>\n",
       "  <tbody>\n",
       "    <tr>\n",
       "      <th>120</th>\n",
       "      <td>0</td>\n",
       "      <td>0</td>\n",
       "      <td>True</td>\n",
       "    </tr>\n",
       "    <tr>\n",
       "      <th>570</th>\n",
       "      <td>1</td>\n",
       "      <td>0</td>\n",
       "      <td>False</td>\n",
       "    </tr>\n",
       "    <tr>\n",
       "      <th>39</th>\n",
       "      <td>0</td>\n",
       "      <td>0</td>\n",
       "      <td>True</td>\n",
       "    </tr>\n",
       "    <tr>\n",
       "      <th>294</th>\n",
       "      <td>1</td>\n",
       "      <td>1</td>\n",
       "      <td>True</td>\n",
       "    </tr>\n",
       "    <tr>\n",
       "      <th>666</th>\n",
       "      <td>1</td>\n",
       "      <td>1</td>\n",
       "      <td>True</td>\n",
       "    </tr>\n",
       "    <tr>\n",
       "      <th>...</th>\n",
       "      <td>...</td>\n",
       "      <td>...</td>\n",
       "      <td>...</td>\n",
       "    </tr>\n",
       "    <tr>\n",
       "      <th>559</th>\n",
       "      <td>1</td>\n",
       "      <td>0</td>\n",
       "      <td>False</td>\n",
       "    </tr>\n",
       "    <tr>\n",
       "      <th>260</th>\n",
       "      <td>0</td>\n",
       "      <td>0</td>\n",
       "      <td>True</td>\n",
       "    </tr>\n",
       "    <tr>\n",
       "      <th>544</th>\n",
       "      <td>1</td>\n",
       "      <td>1</td>\n",
       "      <td>True</td>\n",
       "    </tr>\n",
       "    <tr>\n",
       "      <th>687</th>\n",
       "      <td>0</td>\n",
       "      <td>0</td>\n",
       "      <td>True</td>\n",
       "    </tr>\n",
       "    <tr>\n",
       "      <th>213</th>\n",
       "      <td>1</td>\n",
       "      <td>0</td>\n",
       "      <td>False</td>\n",
       "    </tr>\n",
       "  </tbody>\n",
       "</table>\n",
       "<p>179 rows × 3 columns</p>\n",
       "</div>"
      ],
      "text/plain": [
       "     y_test  y_pred  equal\n",
       "120       0       0   True\n",
       "570       1       0  False\n",
       "39        0       0   True\n",
       "294       1       1   True\n",
       "666       1       1   True\n",
       "..      ...     ...    ...\n",
       "559       1       0  False\n",
       "260       0       0   True\n",
       "544       1       1   True\n",
       "687       0       0   True\n",
       "213       1       0  False\n",
       "\n",
       "[179 rows x 3 columns]"
      ]
     },
     "execution_count": 433,
     "metadata": {},
     "output_type": "execute_result"
    }
   ],
   "source": [
    "df_pred = pd.DataFrame({'y_test': y_test, 'y_pred': y_pred}) # Create a dataframe with the test and predicted labels\n",
    "df_pred['equal'] = df_pred['y_test'] == df_pred['y_pred'] # Create a column with the comparison between the test and predicted labels\n",
    "df_pred"
   ]
  },
  {
   "cell_type": "code",
   "execution_count": 434,
   "metadata": {},
   "outputs": [
    {
     "data": {
      "text/html": [
       "<div>\n",
       "<style scoped>\n",
       "    .dataframe tbody tr th:only-of-type {\n",
       "        vertical-align: middle;\n",
       "    }\n",
       "\n",
       "    .dataframe tbody tr th {\n",
       "        vertical-align: top;\n",
       "    }\n",
       "\n",
       "    .dataframe thead th {\n",
       "        text-align: right;\n",
       "    }\n",
       "</style>\n",
       "<table border=\"1\" class=\"dataframe\">\n",
       "  <thead>\n",
       "    <tr style=\"text-align: right;\">\n",
       "      <th></th>\n",
       "      <th>y_test</th>\n",
       "      <th>y_pred</th>\n",
       "      <th>equal</th>\n",
       "    </tr>\n",
       "  </thead>\n",
       "  <tbody>\n",
       "    <tr>\n",
       "      <th>570</th>\n",
       "      <td>1</td>\n",
       "      <td>0</td>\n",
       "      <td>False</td>\n",
       "    </tr>\n",
       "    <tr>\n",
       "      <th>437</th>\n",
       "      <td>1</td>\n",
       "      <td>0</td>\n",
       "      <td>False</td>\n",
       "    </tr>\n",
       "    <tr>\n",
       "      <th>97</th>\n",
       "      <td>1</td>\n",
       "      <td>0</td>\n",
       "      <td>False</td>\n",
       "    </tr>\n",
       "    <tr>\n",
       "      <th>456</th>\n",
       "      <td>0</td>\n",
       "      <td>1</td>\n",
       "      <td>False</td>\n",
       "    </tr>\n",
       "    <tr>\n",
       "      <th>239</th>\n",
       "      <td>1</td>\n",
       "      <td>0</td>\n",
       "      <td>False</td>\n",
       "    </tr>\n",
       "    <tr>\n",
       "      <th>265</th>\n",
       "      <td>1</td>\n",
       "      <td>0</td>\n",
       "      <td>False</td>\n",
       "    </tr>\n",
       "    <tr>\n",
       "      <th>588</th>\n",
       "      <td>0</td>\n",
       "      <td>1</td>\n",
       "      <td>False</td>\n",
       "    </tr>\n",
       "    <tr>\n",
       "      <th>131</th>\n",
       "      <td>1</td>\n",
       "      <td>0</td>\n",
       "      <td>False</td>\n",
       "    </tr>\n",
       "    <tr>\n",
       "      <th>72</th>\n",
       "      <td>1</td>\n",
       "      <td>0</td>\n",
       "      <td>False</td>\n",
       "    </tr>\n",
       "    <tr>\n",
       "      <th>118</th>\n",
       "      <td>1</td>\n",
       "      <td>0</td>\n",
       "      <td>False</td>\n",
       "    </tr>\n",
       "    <tr>\n",
       "      <th>77</th>\n",
       "      <td>0</td>\n",
       "      <td>1</td>\n",
       "      <td>False</td>\n",
       "    </tr>\n",
       "    <tr>\n",
       "      <th>676</th>\n",
       "      <td>1</td>\n",
       "      <td>0</td>\n",
       "      <td>False</td>\n",
       "    </tr>\n",
       "    <tr>\n",
       "      <th>254</th>\n",
       "      <td>0</td>\n",
       "      <td>1</td>\n",
       "      <td>False</td>\n",
       "    </tr>\n",
       "    <tr>\n",
       "      <th>212</th>\n",
       "      <td>0</td>\n",
       "      <td>1</td>\n",
       "      <td>False</td>\n",
       "    </tr>\n",
       "    <tr>\n",
       "      <th>577</th>\n",
       "      <td>0</td>\n",
       "      <td>1</td>\n",
       "      <td>False</td>\n",
       "    </tr>\n",
       "    <tr>\n",
       "      <th>101</th>\n",
       "      <td>0</td>\n",
       "      <td>1</td>\n",
       "      <td>False</td>\n",
       "    </tr>\n",
       "    <tr>\n",
       "      <th>439</th>\n",
       "      <td>0</td>\n",
       "      <td>1</td>\n",
       "      <td>False</td>\n",
       "    </tr>\n",
       "    <tr>\n",
       "      <th>615</th>\n",
       "      <td>1</td>\n",
       "      <td>0</td>\n",
       "      <td>False</td>\n",
       "    </tr>\n",
       "    <tr>\n",
       "      <th>148</th>\n",
       "      <td>0</td>\n",
       "      <td>1</td>\n",
       "      <td>False</td>\n",
       "    </tr>\n",
       "    <tr>\n",
       "      <th>76</th>\n",
       "      <td>0</td>\n",
       "      <td>1</td>\n",
       "      <td>False</td>\n",
       "    </tr>\n",
       "    <tr>\n",
       "      <th>336</th>\n",
       "      <td>0</td>\n",
       "      <td>1</td>\n",
       "      <td>False</td>\n",
       "    </tr>\n",
       "    <tr>\n",
       "      <th>507</th>\n",
       "      <td>1</td>\n",
       "      <td>0</td>\n",
       "      <td>False</td>\n",
       "    </tr>\n",
       "    <tr>\n",
       "      <th>411</th>\n",
       "      <td>1</td>\n",
       "      <td>0</td>\n",
       "      <td>False</td>\n",
       "    </tr>\n",
       "    <tr>\n",
       "      <th>90</th>\n",
       "      <td>1</td>\n",
       "      <td>0</td>\n",
       "      <td>False</td>\n",
       "    </tr>\n",
       "    <tr>\n",
       "      <th>60</th>\n",
       "      <td>0</td>\n",
       "      <td>1</td>\n",
       "      <td>False</td>\n",
       "    </tr>\n",
       "    <tr>\n",
       "      <th>164</th>\n",
       "      <td>1</td>\n",
       "      <td>0</td>\n",
       "      <td>False</td>\n",
       "    </tr>\n",
       "    <tr>\n",
       "      <th>69</th>\n",
       "      <td>1</td>\n",
       "      <td>0</td>\n",
       "      <td>False</td>\n",
       "    </tr>\n",
       "    <tr>\n",
       "      <th>284</th>\n",
       "      <td>1</td>\n",
       "      <td>0</td>\n",
       "      <td>False</td>\n",
       "    </tr>\n",
       "    <tr>\n",
       "      <th>70</th>\n",
       "      <td>1</td>\n",
       "      <td>0</td>\n",
       "      <td>False</td>\n",
       "    </tr>\n",
       "    <tr>\n",
       "      <th>346</th>\n",
       "      <td>0</td>\n",
       "      <td>1</td>\n",
       "      <td>False</td>\n",
       "    </tr>\n",
       "    <tr>\n",
       "      <th>657</th>\n",
       "      <td>1</td>\n",
       "      <td>0</td>\n",
       "      <td>False</td>\n",
       "    </tr>\n",
       "    <tr>\n",
       "      <th>165</th>\n",
       "      <td>0</td>\n",
       "      <td>1</td>\n",
       "      <td>False</td>\n",
       "    </tr>\n",
       "    <tr>\n",
       "      <th>257</th>\n",
       "      <td>1</td>\n",
       "      <td>0</td>\n",
       "      <td>False</td>\n",
       "    </tr>\n",
       "    <tr>\n",
       "      <th>428</th>\n",
       "      <td>0</td>\n",
       "      <td>1</td>\n",
       "      <td>False</td>\n",
       "    </tr>\n",
       "    <tr>\n",
       "      <th>291</th>\n",
       "      <td>1</td>\n",
       "      <td>0</td>\n",
       "      <td>False</td>\n",
       "    </tr>\n",
       "    <tr>\n",
       "      <th>56</th>\n",
       "      <td>0</td>\n",
       "      <td>1</td>\n",
       "      <td>False</td>\n",
       "    </tr>\n",
       "    <tr>\n",
       "      <th>318</th>\n",
       "      <td>0</td>\n",
       "      <td>1</td>\n",
       "      <td>False</td>\n",
       "    </tr>\n",
       "    <tr>\n",
       "      <th>528</th>\n",
       "      <td>0</td>\n",
       "      <td>1</td>\n",
       "      <td>False</td>\n",
       "    </tr>\n",
       "    <tr>\n",
       "      <th>174</th>\n",
       "      <td>1</td>\n",
       "      <td>0</td>\n",
       "      <td>False</td>\n",
       "    </tr>\n",
       "    <tr>\n",
       "      <th>589</th>\n",
       "      <td>0</td>\n",
       "      <td>1</td>\n",
       "      <td>False</td>\n",
       "    </tr>\n",
       "    <tr>\n",
       "      <th>557</th>\n",
       "      <td>1</td>\n",
       "      <td>0</td>\n",
       "      <td>False</td>\n",
       "    </tr>\n",
       "    <tr>\n",
       "      <th>554</th>\n",
       "      <td>1</td>\n",
       "      <td>0</td>\n",
       "      <td>False</td>\n",
       "    </tr>\n",
       "    <tr>\n",
       "      <th>18</th>\n",
       "      <td>0</td>\n",
       "      <td>1</td>\n",
       "      <td>False</td>\n",
       "    </tr>\n",
       "    <tr>\n",
       "      <th>451</th>\n",
       "      <td>1</td>\n",
       "      <td>0</td>\n",
       "      <td>False</td>\n",
       "    </tr>\n",
       "    <tr>\n",
       "      <th>559</th>\n",
       "      <td>1</td>\n",
       "      <td>0</td>\n",
       "      <td>False</td>\n",
       "    </tr>\n",
       "    <tr>\n",
       "      <th>213</th>\n",
       "      <td>1</td>\n",
       "      <td>0</td>\n",
       "      <td>False</td>\n",
       "    </tr>\n",
       "  </tbody>\n",
       "</table>\n",
       "</div>"
      ],
      "text/plain": [
       "     y_test  y_pred  equal\n",
       "570       1       0  False\n",
       "437       1       0  False\n",
       "97        1       0  False\n",
       "456       0       1  False\n",
       "239       1       0  False\n",
       "265       1       0  False\n",
       "588       0       1  False\n",
       "131       1       0  False\n",
       "72        1       0  False\n",
       "118       1       0  False\n",
       "77        0       1  False\n",
       "676       1       0  False\n",
       "254       0       1  False\n",
       "212       0       1  False\n",
       "577       0       1  False\n",
       "101       0       1  False\n",
       "439       0       1  False\n",
       "615       1       0  False\n",
       "148       0       1  False\n",
       "76        0       1  False\n",
       "336       0       1  False\n",
       "507       1       0  False\n",
       "411       1       0  False\n",
       "90        1       0  False\n",
       "60        0       1  False\n",
       "164       1       0  False\n",
       "69        1       0  False\n",
       "284       1       0  False\n",
       "70        1       0  False\n",
       "346       0       1  False\n",
       "657       1       0  False\n",
       "165       0       1  False\n",
       "257       1       0  False\n",
       "428       0       1  False\n",
       "291       1       0  False\n",
       "56        0       1  False\n",
       "318       0       1  False\n",
       "528       0       1  False\n",
       "174       1       0  False\n",
       "589       0       1  False\n",
       "557       1       0  False\n",
       "554       1       0  False\n",
       "18        0       1  False\n",
       "451       1       0  False\n",
       "559       1       0  False\n",
       "213       1       0  False"
      ]
     },
     "execution_count": 434,
     "metadata": {},
     "output_type": "execute_result"
    }
   ],
   "source": [
    "df_pred[df_pred['equal'] == False] # show differences in dataframe table y_pred and y_test and if they are equal or not"
   ]
  },
  {
   "cell_type": "code",
   "execution_count": 435,
   "metadata": {},
   "outputs": [
    {
     "data": {
      "image/png": "[encoded data removed]",
      "text/plain": [
       "<Figure size 360x360 with 1 Axes>"
      ]
     },
     "metadata": {
      "needs_background": "light"
     },
     "output_type": "display_data"
    }
   ],
   "source": [
    "\n",
    "plt.figure(figsize=(5,5))\n",
    "sns.countplot(x='equal', data=df_pred) # show countplot equal\n",
    "plt.show()\n"
   ]
  },
  {
   "cell_type": "code",
   "execution_count": 436,
   "metadata": {},
   "outputs": [
    {
     "data": {
      "image/png": "[encoded data removed]",
      "text/plain": [
       "<Figure size 720x720 with 1 Axes>"
      ]
     },
     "metadata": {},
     "output_type": "display_data"
    }
   ],
   "source": [
    "plt.figure(figsize=(10,10))\n",
    "df_pred['equal'].value_counts().plot.pie(autopct='%1.1f%%')\n",
    "plt.show()"
   ]
  },
  {
   "cell_type": "code",
   "execution_count": 437,
   "metadata": {},
   "outputs": [
    {
     "name": "stdout",
     "output_type": "stream",
     "text": [
      "True     133\n",
      "False     46\n",
      "Name: equal, dtype: int64\n"
     ]
    }
   ],
   "source": [
    "print(df_pred['equal'].value_counts()) # show count equal True and False"
   ]
  },
  {
   "cell_type": "code",
   "execution_count": 438,
   "metadata": {},
   "outputs": [
    {
     "name": "stdout",
     "output_type": "stream",
     "text": [
      "True    0.74\n",
      "False   0.26\n",
      "Name: equal, dtype: float64\n"
     ]
    }
   ],
   "source": [
    "print(df_pred['equal'].value_counts(normalize=True)) # show count equal True and False in percentage"
   ]
  },
  {
   "attachments": {},
   "cell_type": "markdown",
   "metadata": {},
   "source": [
    "## svm model"
   ]
  },
  {
   "cell_type": "code",
   "execution_count": 439,
   "metadata": {},
   "outputs": [
    {
     "name": "stdout",
     "output_type": "stream",
     "text": [
      "Fitting 5 folds for each of 12 candidates, totalling 60 fits\n",
      "{'C': 1.0, 'gamma': 'scale', 'kernel': 'rbf'}\n",
      "              precision    recall  f1-score   support\n",
      "\n",
      "           0       0.67      0.74      0.71        78\n",
      "           1       0.78      0.72      0.75       101\n",
      "\n",
      "    accuracy                           0.73       179\n",
      "   macro avg       0.73      0.73      0.73       179\n",
      "weighted avg       0.74      0.73      0.73       179\n",
      "\n"
     ]
    }
   ],
   "source": [
    "### svm model ###\n",
    "from sklearn.svm import SVC\n",
    "\n",
    "param_grid = {\n",
    "    \"C\": [0.1, 1.0, 10.0], # Regularization parameter\n",
    "    \"kernel\": [\"linear\", \"rbf\"], # Kernel type to be used in the algorithm\n",
    "    \"gamma\": [\"scale\", \"auto\"], # Kernel coefficient for ‘rbf’, ‘poly’ and ‘sigmoid’\n",
    "}\n",
    "\n",
    "# Create the support vector classifier\n",
    "svc = SVC()\n",
    "\n",
    "# Create the grid search object\n",
    "grid_search = GridSearchCV(svc, param_grid, cv=5, n_jobs=-1, verbose=1)\n",
    "\n",
    "# Fit the grid search object to the training data\n",
    "grid_search.fit(X_train, y_train)\n",
    "\n",
    "# Print the best hyperparameters\n",
    "print(grid_search.best_params_)\n",
    "# Evaluate the model on the test set\n",
    "y_pred = grid_search.predict(X_test)\n",
    "print(classification_report(y_test, y_pred))\n",
    "\n"
   ]
  },
  {
   "cell_type": "code",
   "execution_count": 440,
   "metadata": {},
   "outputs": [
    {
     "data": {
      "image/png": "[encoded data removed]",
      "text/plain": [
       "<Figure size 720x720 with 2 Axes>"
      ]
     },
     "metadata": {
      "needs_background": "light"
     },
     "output_type": "display_data"
    }
   ],
   "source": [
    "# confusion matrix\n",
    "from sklearn.metrics import confusion_matrix\n",
    "confusion_matrix(y_test, y_pred)\n",
    "\n",
    "# plot confusion matrix\n",
    "import seaborn as sns\n",
    "import matplotlib.pyplot as plt\n",
    "plt.figure(figsize=(10,10))\n",
    "sns.heatmap(confusion_matrix(y_test, y_pred), annot=True, fmt='d')\n",
    "plt.show()"
   ]
  },
  {
   "cell_type": "code",
   "execution_count": 441,
   "metadata": {},
   "outputs": [
    {
     "name": "stdout",
     "output_type": "stream",
     "text": [
      "Accuracy :  0.73\n",
      "Sensitivity :  0.74\n",
      "Specificity :  0.72\n",
      "F1 score :  0.75\n",
      "Precision score :  0.78\n"
     ]
    }
   ],
   "source": [
    "#acuracy\n",
    "from sklearn.metrics import accuracy_score\n",
    "print('Accuracy : ', format(accuracy_score(y_test, y_pred), '.2f'))\n",
    "svm_accuracy = accuracy_score(y_test, y_pred)\n",
    "\n",
    "# sensitivity\n",
    "sensitivity = 0.0\n",
    "sensitivity = confusion_matrix(y_test, y_pred)[0,0]/(confusion_matrix(y_test, y_pred)[0,0]+confusion_matrix(y_test, y_pred)[0,1])\n",
    "svm_sensitivity = sensitivity\n",
    "\n",
    "print('Sensitivity : ', format(sensitivity, '.2f'))\n",
    "\n",
    "# specificity\n",
    "specificity = 0.0\n",
    "specificity = confusion_matrix(y_test, y_pred)[1,1]/(confusion_matrix(y_test, y_pred)[1,0]+confusion_matrix(y_test, y_pred)[1,1])\n",
    "svm_specificity = specificity\n",
    "print('Specificity : ', format(specificity, '.2f'))\n",
    "\n",
    "## f1 score\n",
    "from sklearn.metrics import f1_score\n",
    "print('F1 score : ', format(f1_score(y_test, y_pred), '.2f'))\n",
    "svm_f1 = f1_score(y_test, y_pred)\n",
    "\n",
    "## precision score\n",
    "from sklearn.metrics import precision_score\n",
    "print('Precision score : ', format(precision_score(y_test, y_pred), '.2f'))\n",
    "svm_precision = precision_score(y_test, y_pred)"
   ]
  },
  {
   "attachments": {},
   "cell_type": "markdown",
   "metadata": {},
   "source": [
    "### random forest"
   ]
  },
  {
   "cell_type": "code",
   "execution_count": 442,
   "metadata": {},
   "outputs": [
    {
     "name": "stdout",
     "output_type": "stream",
     "text": [
      "Fitting 5 folds for each of 36 candidates, totalling 180 fits\n",
      "{'criterion': 'entropy', 'max_depth': None, 'min_samples_leaf': 1, 'min_samples_split': 10, 'n_estimators': 100}\n",
      "              precision    recall  f1-score   support\n",
      "\n",
      "           0       0.66      0.72      0.69        78\n",
      "           1       0.77      0.71      0.74       101\n",
      "\n",
      "    accuracy                           0.72       179\n",
      "   macro avg       0.71      0.72      0.71       179\n",
      "weighted avg       0.72      0.72      0.72       179\n",
      "\n"
     ]
    }
   ],
   "source": [
    "### random forest model ###\n",
    "from sklearn.ensemble import RandomForestClassifier\n",
    "\n",
    "param_grid = {\n",
    "    \"n_estimators\": [100, 200], # Number of trees in the forest\n",
    "    \"criterion\": [\"entropy\"], # Function to measure the quality of a split\n",
    "    \"max_depth\": [None, 5], # Maximum number of levels in each decision tree\n",
    "    \"min_samples_split\": [2, 5, 10], # Minimum number of samples required to split an internal node\n",
    "    \"min_samples_leaf\": [1, 2, 4], # Minimum number of samples required to be at a leaf node\n",
    "}\n",
    "\n",
    "# Create the random forest classifier\n",
    "rf = RandomForestClassifier()\n",
    "\n",
    "# Create the grid search object\n",
    "grid_search = GridSearchCV(rf, param_grid, cv=5, n_jobs=-1, verbose=1)\n",
    "\n",
    "# Fit the grid search object to the training data\n",
    "grid_search.fit(X_train, y_train)\n",
    "\n",
    "# Print the best hyperparameters\n",
    "print(grid_search.best_params_)\n",
    "# Evaluate the model on the test set\n",
    "y_pred = grid_search.predict(X_test)\n",
    "print(classification_report(y_test, y_pred))\n"
   ]
  },
  {
   "cell_type": "code",
   "execution_count": 443,
   "metadata": {},
   "outputs": [
    {
     "data": {
      "image/png": "[encoded data removed]",
      "text/plain": [
       "<Figure size 720x720 with 2 Axes>"
      ]
     },
     "metadata": {
      "needs_background": "light"
     },
     "output_type": "display_data"
    }
   ],
   "source": [
    "# confusion matrix\n",
    "from sklearn.metrics import confusion_matrix\n",
    "confusion_matrix(y_test, y_pred)\n",
    "\n",
    "# plot confusion matrix\n",
    "import seaborn as sns\n",
    "import matplotlib.pyplot as plt\n",
    "plt.figure(figsize=(10,10))\n",
    "sns.heatmap(confusion_matrix(y_test, y_pred), annot=True, fmt='d')\n",
    "plt.show()"
   ]
  },
  {
   "cell_type": "code",
   "execution_count": 444,
   "metadata": {},
   "outputs": [
    {
     "name": "stdout",
     "output_type": "stream",
     "text": [
      "Accuracy :  0.72\n",
      "Sensitivity :  0.72\n",
      "Specificity :  0.71\n",
      "F1 score :  0.74\n",
      "Precision score :  0.77\n"
     ]
    }
   ],
   "source": [
    "#acuracy\n",
    "from sklearn.metrics import accuracy_score\n",
    "print('Accuracy : ', format(accuracy_score(y_test, y_pred), '.2f'))\n",
    "rf_accuracy = accuracy_score(y_test, y_pred)\n",
    "\n",
    "# sensitivity\n",
    "sensitivity = 0.0\n",
    "sensitivity = confusion_matrix(y_test, y_pred)[0,0]/(confusion_matrix(y_test, y_pred)[0,0]+confusion_matrix(y_test, y_pred)[0,1])\n",
    "rf_sensitivity = sensitivity\n",
    "print('Sensitivity : ', format(sensitivity, '.2f'))\n",
    "# specificity\n",
    "specificity = 0.0\n",
    "specificity = confusion_matrix(y_test, y_pred)[1,1]/(confusion_matrix(y_test, y_pred)[1,0]+confusion_matrix(y_test, y_pred)[1,1])\n",
    "rf_specificity = specificity\n",
    "print('Specificity : ', format(specificity, '.2f'))\n",
    "\n",
    "## f1 score\n",
    "from sklearn.metrics import f1_score\n",
    "print('F1 score : ', format(f1_score(y_test, y_pred), '.2f'))\n",
    "rf_f1 = f1_score(y_test, y_pred)\n",
    "\n",
    "## precision score\n",
    "from sklearn.metrics import precision_score\n",
    "print('Precision score : ', format(precision_score(y_test, y_pred), '.2f'))\n",
    "rf_precision = precision_score(y_test, y_pred)\n",
    "\n"
   ]
  },
  {
   "cell_type": "code",
   "execution_count": 445,
   "metadata": {},
   "outputs": [
    {
     "data": {
      "text/html": [
       "<div>\n",
       "<style scoped>\n",
       "    .dataframe tbody tr th:only-of-type {\n",
       "        vertical-align: middle;\n",
       "    }\n",
       "\n",
       "    .dataframe tbody tr th {\n",
       "        vertical-align: top;\n",
       "    }\n",
       "\n",
       "    .dataframe thead th {\n",
       "        text-align: right;\n",
       "    }\n",
       "</style>\n",
       "<table border=\"1\" class=\"dataframe\">\n",
       "  <thead>\n",
       "    <tr style=\"text-align: right;\">\n",
       "      <th></th>\n",
       "      <th>Model</th>\n",
       "      <th>Accuracy</th>\n",
       "      <th>Sensitivity</th>\n",
       "      <th>Specificity</th>\n",
       "      <th>F1 score</th>\n",
       "      <th>Precision score</th>\n",
       "    </tr>\n",
       "  </thead>\n",
       "  <tbody>\n",
       "    <tr>\n",
       "      <th>0</th>\n",
       "      <td>Logistic Regression</td>\n",
       "      <td>0.74</td>\n",
       "      <td>0.74</td>\n",
       "      <td>0.74</td>\n",
       "      <td>0.77</td>\n",
       "      <td>0.79</td>\n",
       "    </tr>\n",
       "    <tr>\n",
       "      <th>1</th>\n",
       "      <td>SVM</td>\n",
       "      <td>0.73</td>\n",
       "      <td>0.74</td>\n",
       "      <td>0.72</td>\n",
       "      <td>0.75</td>\n",
       "      <td>0.78</td>\n",
       "    </tr>\n",
       "    <tr>\n",
       "      <th>2</th>\n",
       "      <td>Random Forest</td>\n",
       "      <td>0.72</td>\n",
       "      <td>0.72</td>\n",
       "      <td>0.71</td>\n",
       "      <td>0.74</td>\n",
       "      <td>0.77</td>\n",
       "    </tr>\n",
       "  </tbody>\n",
       "</table>\n",
       "</div>"
      ],
      "text/plain": [
       "                 Model  Accuracy  Sensitivity  Specificity  F1 score  \\\n",
       "0  Logistic Regression      0.74         0.74         0.74      0.77   \n",
       "1                  SVM      0.73         0.74         0.72      0.75   \n",
       "2        Random Forest      0.72         0.72         0.71      0.74   \n",
       "\n",
       "   Precision score  \n",
       "0             0.79  \n",
       "1             0.78  \n",
       "2             0.77  "
      ]
     },
     "execution_count": 445,
     "metadata": {},
     "output_type": "execute_result"
    }
   ],
   "source": [
    "# all model accuracy, sensitivity, specificity, f1 score, precision score in one dataframe\n",
    "df = pd.DataFrame({'Model': ['Logistic Regression', 'SVM', 'Random Forest'],\n",
    "                     'Accuracy': [lr_accuracy, svm_accuracy, rf_accuracy],\n",
    "                        'Sensitivity': [lr_sensitivity, svm_sensitivity, rf_sensitivity],\n",
    "                        'Specificity': [lr_specificity, svm_specificity, rf_specificity],\n",
    "                        'F1 score': [lr_f1, svm_f1, rf_f1],\n",
    "                        'Precision score': [lr_precision, svm_precision, rf_precision]})\n",
    "pd.options.display.float_format = '{:,.2f}'.format\n",
    "df"
   ]
  },
  {
   "attachments": {},
   "cell_type": "markdown",
   "metadata": {},
   "source": [
    "### predict"
   ]
  },
  {
   "cell_type": "code",
   "execution_count": 446,
   "metadata": {},
   "outputs": [],
   "source": [
    "### svc model predict a text ###\n",
    "def check_text(text):\n",
    "    text = preprocess_1(text)\n",
    "    text = preprocess_2(text)\n",
    "    text = preprocess_3(text)\n",
    "    text = vectorizer.transform([text])\n",
    "    y_pred = grid_search.predict(text)\n",
    "    print(y_pred)"
   ]
  },
  {
   "cell_type": "code",
   "execution_count": 447,
   "metadata": {},
   "outputs": [
    {
     "name": "stdout",
     "output_type": "stream",
     "text": [
      "[0]\n"
     ]
    }
   ],
   "source": [
    "text = \"I stressed out because of my work.\" # Text to check\n",
    "check_text(text)"
   ]
  },
  {
   "cell_type": "code",
   "execution_count": 448,
   "metadata": {},
   "outputs": [
    {
     "name": "stdout",
     "output_type": "stream",
     "text": [
      "[0]\n"
     ]
    }
   ],
   "source": [
    "text = \"I loved this movie\" # Text to check\n",
    "check_text(text)\n"
   ]
  },
  {
   "cell_type": "code",
   "execution_count": 449,
   "metadata": {},
   "outputs": [
    {
     "name": "stdout",
     "output_type": "stream",
     "text": [
      "[0]\n"
     ]
    }
   ],
   "source": [
    "text = \"I hated this movie\" # Text to check\n",
    "check_text(text) "
   ]
  },
  {
   "cell_type": "code",
   "execution_count": 450,
   "metadata": {},
   "outputs": [
    {
     "name": "stdout",
     "output_type": "stream",
     "text": [
      "[0]\n"
     ]
    }
   ],
   "source": [
    "text = \"everything was great\" # Text to check\n",
    "check_text(text)\n"
   ]
  },
  {
   "cell_type": "code",
   "execution_count": 451,
   "metadata": {},
   "outputs": [
    {
     "name": "stdout",
     "output_type": "stream",
     "text": [
      "[0]\n"
     ]
    }
   ],
   "source": [
    "text = \"I'm super stressed about this\" # Text to check\n",
    "check_text(text)"
   ]
  },
  {
   "cell_type": "code",
   "execution_count": 452,
   "metadata": {},
   "outputs": [
    {
     "name": "stdout",
     "output_type": "stream",
     "text": [
      "[0]\n"
     ]
    }
   ],
   "source": [
    "text = \"I can't look at life positively because of some events in my life\" # Text to check\n",
    "check_text(text)"
   ]
  }
 ],
 "metadata": {
  "kernelspec": {
   "display_name": "Python 3",
   "language": "python",
   "name": "python3"
  },
  "language_info": {
   "codemirror_mode": {
    "name": "ipython",
    "version": 3
   },
   "file_extension": ".py",
   "mimetype": "text/x-python",
   "name": "python",
   "nbconvert_exporter": "python",
   "pygments_lexer": "ipython3",
   "version": "3.10.9"
  },
  "orig_nbformat": 4,
  "vscode": {
   "interpreter": {
    "hash": "4bcfa9f6287bfccaea2759ba67ff7e9a7468f03b8524bb40db35b38096e7c7ac"
   }
  }
 },
 "nbformat": 4,
 "nbformat_minor": 2
}
